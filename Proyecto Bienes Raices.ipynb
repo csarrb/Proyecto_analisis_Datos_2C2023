{
 "cells": [
  {
   "cell_type": "markdown",
   "id": "9db01f3b",
   "metadata": {},
   "source": [
    "<img src=\"Imagen bienes raices.jpg\">\n",
    "\n",
    "<h1 Style= 'color:#0996af;text-align:center'> Universidad Castro Carazo</h1>\n",
    "<h2 Style= 'text-align:center'> Proyecto Venta de Bienes Raíces</h2>\n",
    "<h3>César Rojas Barrios 1-1610-0143</h3>\n",
    "\n"
   ]
  },
  {
   "cell_type": "markdown",
   "id": "fbd8ca65",
   "metadata": {},
   "source": [
    "<h3>Su primera opción para el manejo de sus finanzas</h3>"
   ]
  },
  {
   "cell_type": "markdown",
   "id": "81eba05e",
   "metadata": {},
   "source": [
    "<h3>Información General</h3>\n",
    "<p> Durante los años 2021 y 2022 la empresa PK2, ha estado analizando incursionar en la venta de Bienes Rices en los Estados Unidos, siendo que previo a tomar una decisión respecto a dar inicio con las operaciones de venta de propiedades se procedió a recopilar información relacionada con el sector de bienes raíces de USA.\n",
    "\n",
    "Como resultado de la recopilación de los datos, PK2 identificó y consolido un set de datos con 200.000 observaciones, cada una de ellas conformadas por 14 variables, es decir se generó un Data Set de 2.800.000 datos, razón por la cual se decidido contratar sus servicios para generar el proceso de análisis en pro de disponer de insumos para el proceso de toma de decisiones.\n",
    "    \n",
    "Particularmente la alta gerencia de PK2 desea disponer de información que le permita atender las siguientes interrogantes: </p>\n",
    "\n",
    "<ol>\n",
    "    <li>¿Cuál es el ingreso anual de las propiedades vendidas?</li>\n",
    "    <li>¿Qué tipo de propiedad tiene mayor facilidad de venta?</li>\n",
    "    <li>¿En cuál ciudad o pueblo se dan mayor cantidad de ventas de propiedades? Y ¿Qué elementos particulares tienen esas ciudades o pueblos?</li>\n",
    "    <li>¿Cuál es el costo promedio de las propiedades residenciales y comerciales?</li>\n",
    "    <li>¿Cuál es tipo de propiedades residenciales que se vende con mayor frecuencia, donde y con que costo promedio?</li>\n",
    "    <li>¿Cuál es margen promedio de ganancia por cada una de las propiedades vendidas?</li>\n",
    "</ol>"
   ]
  },
  {
   "cell_type": "code",
   "execution_count": 1,
   "id": "c818629b",
   "metadata": {},
   "outputs": [],
   "source": [
    "import io\n",
    "import pandas as pd \n",
    "import numpy as np\n",
    "import matplotlib.pyplot as plt"
   ]
  },
  {
   "cell_type": "code",
   "execution_count": 2,
   "id": "2f7432f4",
   "metadata": {},
   "outputs": [],
   "source": [
    "df_ventas_br = pd.read_excel(\"DataBr.xlsx\")"
   ]
  },
  {
   "cell_type": "code",
   "execution_count": 3,
   "id": "19cdbd44",
   "metadata": {},
   "outputs": [
    {
     "data": {
      "text/plain": [
       "(200015, 14)"
      ]
     },
     "execution_count": 3,
     "metadata": {},
     "output_type": "execute_result"
    }
   ],
   "source": [
    "df_ventas_br.shape"
   ]
  },
  {
   "cell_type": "code",
   "execution_count": 4,
   "id": "ab861b02",
   "metadata": {
    "scrolled": true
   },
   "outputs": [
    {
     "data": {
      "text/html": [
       "<div>\n",
       "<style scoped>\n",
       "    .dataframe tbody tr th:only-of-type {\n",
       "        vertical-align: middle;\n",
       "    }\n",
       "\n",
       "    .dataframe tbody tr th {\n",
       "        vertical-align: top;\n",
       "    }\n",
       "\n",
       "    .dataframe thead th {\n",
       "        text-align: right;\n",
       "    }\n",
       "</style>\n",
       "<table border=\"1\" class=\"dataframe\">\n",
       "  <thead>\n",
       "    <tr style=\"text-align: right;\">\n",
       "      <th></th>\n",
       "      <th>Serial Number</th>\n",
       "      <th>List Year</th>\n",
       "      <th>Date Recorded</th>\n",
       "      <th>Town</th>\n",
       "      <th>Address</th>\n",
       "      <th>Assessed Value</th>\n",
       "      <th>Sale Amount</th>\n",
       "      <th>Sales Ratio</th>\n",
       "      <th>Property Type</th>\n",
       "      <th>Residential Type</th>\n",
       "      <th>Non Use Code</th>\n",
       "      <th>Assessor Remarks</th>\n",
       "      <th>OPM remarks</th>\n",
       "      <th>Location</th>\n",
       "    </tr>\n",
       "  </thead>\n",
       "  <tbody>\n",
       "    <tr>\n",
       "      <th>0</th>\n",
       "      <td>20201210.0</td>\n",
       "      <td>2020.0</td>\n",
       "      <td>08/17/2021</td>\n",
       "      <td>Stratford</td>\n",
       "      <td>117 CANAAN CT</td>\n",
       "      <td>0.0</td>\n",
       "      <td>29900.0</td>\n",
       "      <td>0</td>\n",
       "      <td>Apartments</td>\n",
       "      <td>NaN</td>\n",
       "      <td>25 - Other</td>\n",
       "      <td>APARTMENT UNIT NOT INDIVIDUALLY ASSESSED</td>\n",
       "      <td>NaN</td>\n",
       "      <td>NaN</td>\n",
       "    </tr>\n",
       "    <tr>\n",
       "      <th>1</th>\n",
       "      <td>27839.0</td>\n",
       "      <td>2020.0</td>\n",
       "      <td>2021-12-03 00:00:00</td>\n",
       "      <td>Newtown</td>\n",
       "      <td>ROUTE 25</td>\n",
       "      <td>0.0</td>\n",
       "      <td>5000.0</td>\n",
       "      <td>0</td>\n",
       "      <td>Vacant Land</td>\n",
       "      <td>NaN</td>\n",
       "      <td>15 - Government Agency</td>\n",
       "      <td>NaN</td>\n",
       "      <td>NaN</td>\n",
       "      <td>NaN</td>\n",
       "    </tr>\n",
       "    <tr>\n",
       "      <th>2</th>\n",
       "      <td>44995.0</td>\n",
       "      <td>2001.0</td>\n",
       "      <td>09/23/2002</td>\n",
       "      <td>Coventry</td>\n",
       "      <td>400 EASTVIEW DR</td>\n",
       "      <td>0.0</td>\n",
       "      <td>325400.0</td>\n",
       "      <td>0</td>\n",
       "      <td>NaN</td>\n",
       "      <td>NaN</td>\n",
       "      <td>7</td>\n",
       "      <td>NaN</td>\n",
       "      <td>NaN</td>\n",
       "      <td>NaN</td>\n",
       "    </tr>\n",
       "    <tr>\n",
       "      <th>3</th>\n",
       "      <td>11821.0</td>\n",
       "      <td>2001.0</td>\n",
       "      <td>08/13/2002</td>\n",
       "      <td>Bolton</td>\n",
       "      <td>45 BEACON CT</td>\n",
       "      <td>0.0</td>\n",
       "      <td>12350.0</td>\n",
       "      <td>0</td>\n",
       "      <td>NaN</td>\n",
       "      <td>NaN</td>\n",
       "      <td>8</td>\n",
       "      <td>NaN</td>\n",
       "      <td>NaN</td>\n",
       "      <td>NaN</td>\n",
       "    </tr>\n",
       "    <tr>\n",
       "      <th>4</th>\n",
       "      <td>10055.0</td>\n",
       "      <td>2001.0</td>\n",
       "      <td>2001-04-12 00:00:00</td>\n",
       "      <td>Stafford</td>\n",
       "      <td>15 JENNIFER LN</td>\n",
       "      <td>0.0</td>\n",
       "      <td>165155.0</td>\n",
       "      <td>0</td>\n",
       "      <td>NaN</td>\n",
       "      <td>NaN</td>\n",
       "      <td>7</td>\n",
       "      <td>NaN</td>\n",
       "      <td>NaN</td>\n",
       "      <td>NaN</td>\n",
       "    </tr>\n",
       "    <tr>\n",
       "      <th>5</th>\n",
       "      <td>37386.0</td>\n",
       "      <td>2001.0</td>\n",
       "      <td>01/15/2002</td>\n",
       "      <td>Stratford</td>\n",
       "      <td>1101 SUCCESS AVE</td>\n",
       "      <td>0.0</td>\n",
       "      <td>50000.0</td>\n",
       "      <td>0</td>\n",
       "      <td>NaN</td>\n",
       "      <td>NaN</td>\n",
       "      <td>25</td>\n",
       "      <td>NaN</td>\n",
       "      <td>NaN</td>\n",
       "      <td>NaN</td>\n",
       "    </tr>\n",
       "    <tr>\n",
       "      <th>6</th>\n",
       "      <td>38737.0</td>\n",
       "      <td>2002.0</td>\n",
       "      <td>2002-11-12 00:00:00</td>\n",
       "      <td>Harwinton</td>\n",
       "      <td>BREEZY HL RD LT 1</td>\n",
       "      <td>0.0</td>\n",
       "      <td>20000.0</td>\n",
       "      <td>0</td>\n",
       "      <td>NaN</td>\n",
       "      <td>NaN</td>\n",
       "      <td>1</td>\n",
       "      <td>NaN</td>\n",
       "      <td>NaN</td>\n",
       "      <td>NaN</td>\n",
       "    </tr>\n",
       "    <tr>\n",
       "      <th>7</th>\n",
       "      <td>37276.0</td>\n",
       "      <td>2002.0</td>\n",
       "      <td>2003-07-02 00:00:00</td>\n",
       "      <td>Coventry</td>\n",
       "      <td>24 STONECROFT LN</td>\n",
       "      <td>0.0</td>\n",
       "      <td>68000.0</td>\n",
       "      <td>0</td>\n",
       "      <td>NaN</td>\n",
       "      <td>NaN</td>\n",
       "      <td>NaN</td>\n",
       "      <td>NaN</td>\n",
       "      <td>NaN</td>\n",
       "      <td>NaN</td>\n",
       "    </tr>\n",
       "    <tr>\n",
       "      <th>8</th>\n",
       "      <td>39468.0</td>\n",
       "      <td>2002.0</td>\n",
       "      <td>08/27/2003</td>\n",
       "      <td>Hamden</td>\n",
       "      <td>42 GILBERT AVE</td>\n",
       "      <td>0.0</td>\n",
       "      <td>179900.0</td>\n",
       "      <td>0</td>\n",
       "      <td>NaN</td>\n",
       "      <td>NaN</td>\n",
       "      <td>7</td>\n",
       "      <td>NaN</td>\n",
       "      <td>NaN</td>\n",
       "      <td>NaN</td>\n",
       "    </tr>\n",
       "    <tr>\n",
       "      <th>9</th>\n",
       "      <td>20006.0</td>\n",
       "      <td>2002.0</td>\n",
       "      <td>11/19/2002</td>\n",
       "      <td>Chaplin</td>\n",
       "      <td>CROSS RD</td>\n",
       "      <td>0.0</td>\n",
       "      <td>27000.0</td>\n",
       "      <td>0</td>\n",
       "      <td>NaN</td>\n",
       "      <td>NaN</td>\n",
       "      <td>28</td>\n",
       "      <td>NaN</td>\n",
       "      <td>NaN</td>\n",
       "      <td>NaN</td>\n",
       "    </tr>\n",
       "    <tr>\n",
       "      <th>10</th>\n",
       "      <td>20066.0</td>\n",
       "      <td>2002.0</td>\n",
       "      <td>01/27/2003</td>\n",
       "      <td>Brooklyn</td>\n",
       "      <td>FITZGERALD RD</td>\n",
       "      <td>0.0</td>\n",
       "      <td>110000.0</td>\n",
       "      <td>0</td>\n",
       "      <td>NaN</td>\n",
       "      <td>NaN</td>\n",
       "      <td>6</td>\n",
       "      <td>NaN</td>\n",
       "      <td>NaN</td>\n",
       "      <td>NaN</td>\n",
       "    </tr>\n",
       "    <tr>\n",
       "      <th>11</th>\n",
       "      <td>12105.0</td>\n",
       "      <td>2020.0</td>\n",
       "      <td>2021-07-01 00:00:00</td>\n",
       "      <td>Groton</td>\n",
       "      <td>69 A ST</td>\n",
       "      <td>0.0</td>\n",
       "      <td>29000.0</td>\n",
       "      <td>0</td>\n",
       "      <td>Residential</td>\n",
       "      <td>Single Family</td>\n",
       "      <td>07 - Change in Property</td>\n",
       "      <td>10/1/2020 VACANT LOT THEN MOBILE HOME PLACED O...</td>\n",
       "      <td>NaN</td>\n",
       "      <td>NaN</td>\n",
       "    </tr>\n",
       "    <tr>\n",
       "      <th>12</th>\n",
       "      <td>11129.0</td>\n",
       "      <td>2020.0</td>\n",
       "      <td>07/23/2021</td>\n",
       "      <td>Groton</td>\n",
       "      <td>3 WATER ST UNIT 304</td>\n",
       "      <td>0.0</td>\n",
       "      <td>600000.0</td>\n",
       "      <td>0</td>\n",
       "      <td>Residential</td>\n",
       "      <td>Condo</td>\n",
       "      <td>07 - Change in Property</td>\n",
       "      <td>NEW CONSTRUCTION</td>\n",
       "      <td>NaN</td>\n",
       "      <td>NaN</td>\n",
       "    </tr>\n",
       "  </tbody>\n",
       "</table>\n",
       "</div>"
      ],
      "text/plain": [
       "    Serial Number  List Year        Date Recorded       Town  \\\n",
       "0      20201210.0     2020.0           08/17/2021  Stratford   \n",
       "1         27839.0     2020.0  2021-12-03 00:00:00    Newtown   \n",
       "2         44995.0     2001.0           09/23/2002   Coventry   \n",
       "3         11821.0     2001.0           08/13/2002     Bolton   \n",
       "4         10055.0     2001.0  2001-04-12 00:00:00   Stafford   \n",
       "5         37386.0     2001.0           01/15/2002  Stratford   \n",
       "6         38737.0     2002.0  2002-11-12 00:00:00  Harwinton   \n",
       "7         37276.0     2002.0  2003-07-02 00:00:00   Coventry   \n",
       "8         39468.0     2002.0           08/27/2003     Hamden   \n",
       "9         20006.0     2002.0           11/19/2002    Chaplin   \n",
       "10        20066.0     2002.0           01/27/2003   Brooklyn   \n",
       "11        12105.0     2020.0  2021-07-01 00:00:00     Groton   \n",
       "12        11129.0     2020.0           07/23/2021     Groton   \n",
       "\n",
       "                Address  Assessed Value  Sale Amount Sales Ratio  \\\n",
       "0         117 CANAAN CT             0.0      29900.0           0   \n",
       "1              ROUTE 25             0.0       5000.0           0   \n",
       "2       400 EASTVIEW DR             0.0     325400.0           0   \n",
       "3          45 BEACON CT             0.0      12350.0           0   \n",
       "4        15 JENNIFER LN             0.0     165155.0           0   \n",
       "5      1101 SUCCESS AVE             0.0      50000.0           0   \n",
       "6     BREEZY HL RD LT 1             0.0      20000.0           0   \n",
       "7      24 STONECROFT LN             0.0      68000.0           0   \n",
       "8        42 GILBERT AVE             0.0     179900.0           0   \n",
       "9              CROSS RD             0.0      27000.0           0   \n",
       "10        FITZGERALD RD             0.0     110000.0           0   \n",
       "11              69 A ST             0.0      29000.0           0   \n",
       "12  3 WATER ST UNIT 304             0.0     600000.0           0   \n",
       "\n",
       "   Property Type Residential Type             Non Use Code  \\\n",
       "0     Apartments              NaN               25 - Other   \n",
       "1    Vacant Land              NaN   15 - Government Agency   \n",
       "2            NaN              NaN                        7   \n",
       "3            NaN              NaN                        8   \n",
       "4            NaN              NaN                        7   \n",
       "5            NaN              NaN                       25   \n",
       "6            NaN              NaN                        1   \n",
       "7            NaN              NaN                      NaN   \n",
       "8            NaN              NaN                        7   \n",
       "9            NaN              NaN                       28   \n",
       "10           NaN              NaN                        6   \n",
       "11   Residential    Single Family  07 - Change in Property   \n",
       "12   Residential            Condo  07 - Change in Property   \n",
       "\n",
       "                                     Assessor Remarks OPM remarks Location  \n",
       "0            APARTMENT UNIT NOT INDIVIDUALLY ASSESSED         NaN      NaN  \n",
       "1                                                 NaN         NaN      NaN  \n",
       "2                                                 NaN         NaN      NaN  \n",
       "3                                                 NaN         NaN      NaN  \n",
       "4                                                 NaN         NaN      NaN  \n",
       "5                                                 NaN         NaN      NaN  \n",
       "6                                                 NaN         NaN      NaN  \n",
       "7                                                 NaN         NaN      NaN  \n",
       "8                                                 NaN         NaN      NaN  \n",
       "9                                                 NaN         NaN      NaN  \n",
       "10                                                NaN         NaN      NaN  \n",
       "11  10/1/2020 VACANT LOT THEN MOBILE HOME PLACED O...         NaN      NaN  \n",
       "12                                   NEW CONSTRUCTION         NaN      NaN  "
      ]
     },
     "execution_count": 4,
     "metadata": {},
     "output_type": "execute_result"
    }
   ],
   "source": [
    "df_ventas_br.head(13)"
   ]
  },
  {
   "cell_type": "code",
   "execution_count": 5,
   "id": "f67dae20",
   "metadata": {},
   "outputs": [
    {
     "data": {
      "text/html": [
       "<div>\n",
       "<style scoped>\n",
       "    .dataframe tbody tr th:only-of-type {\n",
       "        vertical-align: middle;\n",
       "    }\n",
       "\n",
       "    .dataframe tbody tr th {\n",
       "        vertical-align: top;\n",
       "    }\n",
       "\n",
       "    .dataframe thead th {\n",
       "        text-align: right;\n",
       "    }\n",
       "</style>\n",
       "<table border=\"1\" class=\"dataframe\">\n",
       "  <thead>\n",
       "    <tr style=\"text-align: right;\">\n",
       "      <th></th>\n",
       "      <th>Serial Number</th>\n",
       "      <th>List Year</th>\n",
       "      <th>Date Recorded</th>\n",
       "      <th>Town</th>\n",
       "      <th>Address</th>\n",
       "      <th>Assessed Value</th>\n",
       "      <th>Sale Amount</th>\n",
       "      <th>Sales Ratio</th>\n",
       "      <th>Property Type</th>\n",
       "      <th>Residential Type</th>\n",
       "      <th>Non Use Code</th>\n",
       "      <th>Assessor Remarks</th>\n",
       "      <th>OPM remarks</th>\n",
       "      <th>Location</th>\n",
       "    </tr>\n",
       "  </thead>\n",
       "  <tbody>\n",
       "    <tr>\n",
       "      <th>200010</th>\n",
       "      <td>23212.0</td>\n",
       "      <td>2002.0</td>\n",
       "      <td>06/17/2003</td>\n",
       "      <td>West Haven</td>\n",
       "      <td>130 JONES ST</td>\n",
       "      <td>70700.0</td>\n",
       "      <td>179000.0</td>\n",
       "      <td>0.394972067</td>\n",
       "      <td>NaN</td>\n",
       "      <td>NaN</td>\n",
       "      <td>NaN</td>\n",
       "      <td>NaN</td>\n",
       "      <td>NaN</td>\n",
       "      <td>NaN</td>\n",
       "    </tr>\n",
       "    <tr>\n",
       "      <th>200011</th>\n",
       "      <td>21066.0</td>\n",
       "      <td>2002.0</td>\n",
       "      <td>07/22/2003</td>\n",
       "      <td>West Hartford</td>\n",
       "      <td>15 PORTER DR</td>\n",
       "      <td>240880.0</td>\n",
       "      <td>515000.0</td>\n",
       "      <td>0.467728155</td>\n",
       "      <td>NaN</td>\n",
       "      <td>NaN</td>\n",
       "      <td>NaN</td>\n",
       "      <td>NaN</td>\n",
       "      <td>NaN</td>\n",
       "      <td>POINT (-72.75671 41.77555)</td>\n",
       "    </tr>\n",
       "    <tr>\n",
       "      <th>200012</th>\n",
       "      <td>11473.0</td>\n",
       "      <td>2003.0</td>\n",
       "      <td>04/15/2004</td>\n",
       "      <td>East Hartford</td>\n",
       "      <td>43 TIFFANY RD</td>\n",
       "      <td>80330.0</td>\n",
       "      <td>130000.0</td>\n",
       "      <td>0.617923077</td>\n",
       "      <td>NaN</td>\n",
       "      <td>NaN</td>\n",
       "      <td>14</td>\n",
       "      <td>NaN</td>\n",
       "      <td>NaN</td>\n",
       "      <td>NaN</td>\n",
       "    </tr>\n",
       "    <tr>\n",
       "      <th>200013</th>\n",
       "      <td>45473.0</td>\n",
       "      <td>2003.0</td>\n",
       "      <td>2004-03-03 00:00:00</td>\n",
       "      <td>Bristol</td>\n",
       "      <td>81 ANDREWS ST</td>\n",
       "      <td>69230.0</td>\n",
       "      <td>130000.0</td>\n",
       "      <td>0.532538462</td>\n",
       "      <td>NaN</td>\n",
       "      <td>NaN</td>\n",
       "      <td>NaN</td>\n",
       "      <td>NaN</td>\n",
       "      <td>NaN</td>\n",
       "      <td>NaN</td>\n",
       "    </tr>\n",
       "    <tr>\n",
       "      <th>200014</th>\n",
       "      <td>12539.0</td>\n",
       "      <td>2003.0</td>\n",
       "      <td>2004-06-02 00:00:00</td>\n",
       "      <td>Greenwich</td>\n",
       "      <td>57 PROSPECT ST</td>\n",
       "      <td>183470.0</td>\n",
       "      <td>375000.0</td>\n",
       "      <td>0.489253333</td>\n",
       "      <td>NaN</td>\n",
       "      <td>NaN</td>\n",
       "      <td>NaN</td>\n",
       "      <td>NaN</td>\n",
       "      <td>NaN</td>\n",
       "      <td>NaN</td>\n",
       "    </tr>\n",
       "  </tbody>\n",
       "</table>\n",
       "</div>"
      ],
      "text/plain": [
       "        Serial Number  List Year        Date Recorded           Town  \\\n",
       "200010        23212.0     2002.0           06/17/2003     West Haven   \n",
       "200011        21066.0     2002.0           07/22/2003  West Hartford   \n",
       "200012        11473.0     2003.0           04/15/2004  East Hartford   \n",
       "200013        45473.0     2003.0  2004-03-03 00:00:00        Bristol   \n",
       "200014        12539.0     2003.0  2004-06-02 00:00:00      Greenwich   \n",
       "\n",
       "               Address  Assessed Value  Sale Amount  Sales Ratio  \\\n",
       "200010    130 JONES ST         70700.0     179000.0  0.394972067   \n",
       "200011    15 PORTER DR        240880.0     515000.0  0.467728155   \n",
       "200012   43 TIFFANY RD         80330.0     130000.0  0.617923077   \n",
       "200013   81 ANDREWS ST         69230.0     130000.0  0.532538462   \n",
       "200014  57 PROSPECT ST        183470.0     375000.0  0.489253333   \n",
       "\n",
       "       Property Type Residential Type Non Use Code Assessor Remarks  \\\n",
       "200010           NaN              NaN          NaN              NaN   \n",
       "200011           NaN              NaN          NaN              NaN   \n",
       "200012           NaN              NaN           14              NaN   \n",
       "200013           NaN              NaN          NaN              NaN   \n",
       "200014           NaN              NaN          NaN              NaN   \n",
       "\n",
       "       OPM remarks                    Location  \n",
       "200010         NaN                         NaN  \n",
       "200011         NaN  POINT (-72.75671 41.77555)  \n",
       "200012         NaN                         NaN  \n",
       "200013         NaN                         NaN  \n",
       "200014         NaN                         NaN  "
      ]
     },
     "execution_count": 5,
     "metadata": {},
     "output_type": "execute_result"
    }
   ],
   "source": [
    "df_ventas_br.tail()"
   ]
  },
  {
   "cell_type": "code",
   "execution_count": 6,
   "id": "06a76f23",
   "metadata": {},
   "outputs": [
    {
     "data": {
      "text/html": [
       "<div>\n",
       "<style scoped>\n",
       "    .dataframe tbody tr th:only-of-type {\n",
       "        vertical-align: middle;\n",
       "    }\n",
       "\n",
       "    .dataframe tbody tr th {\n",
       "        vertical-align: top;\n",
       "    }\n",
       "\n",
       "    .dataframe thead th {\n",
       "        text-align: right;\n",
       "    }\n",
       "</style>\n",
       "<table border=\"1\" class=\"dataframe\">\n",
       "  <thead>\n",
       "    <tr style=\"text-align: right;\">\n",
       "      <th></th>\n",
       "      <th>Serial Number</th>\n",
       "      <th>List Year</th>\n",
       "      <th>Assessed Value</th>\n",
       "      <th>Sale Amount</th>\n",
       "    </tr>\n",
       "  </thead>\n",
       "  <tbody>\n",
       "    <tr>\n",
       "      <th>count</th>\n",
       "      <td>2.000130e+05</td>\n",
       "      <td>200013.000000</td>\n",
       "      <td>2.000130e+05</td>\n",
       "      <td>2.000130e+05</td>\n",
       "    </tr>\n",
       "    <tr>\n",
       "      <th>mean</th>\n",
       "      <td>1.091814e+06</td>\n",
       "      <td>2007.822467</td>\n",
       "      <td>2.207392e+05</td>\n",
       "      <td>3.918124e+05</td>\n",
       "    </tr>\n",
       "    <tr>\n",
       "      <th>std</th>\n",
       "      <td>1.273133e+07</td>\n",
       "      <td>8.656000</td>\n",
       "      <td>1.167684e+06</td>\n",
       "      <td>1.129669e+07</td>\n",
       "    </tr>\n",
       "    <tr>\n",
       "      <th>min</th>\n",
       "      <td>0.000000e+00</td>\n",
       "      <td>2001.000000</td>\n",
       "      <td>0.000000e+00</td>\n",
       "      <td>0.000000e+00</td>\n",
       "    </tr>\n",
       "    <tr>\n",
       "      <th>25%</th>\n",
       "      <td>2.000500e+04</td>\n",
       "      <td>2001.000000</td>\n",
       "      <td>6.916100e+04</td>\n",
       "      <td>1.300000e+05</td>\n",
       "    </tr>\n",
       "    <tr>\n",
       "      <th>50%</th>\n",
       "      <td>2.929000e+04</td>\n",
       "      <td>2002.000000</td>\n",
       "      <td>1.099000e+05</td>\n",
       "      <td>2.150000e+05</td>\n",
       "    </tr>\n",
       "    <tr>\n",
       "      <th>75%</th>\n",
       "      <td>4.095900e+04</td>\n",
       "      <td>2020.000000</td>\n",
       "      <td>1.874300e+05</td>\n",
       "      <td>3.550000e+05</td>\n",
       "    </tr>\n",
       "    <tr>\n",
       "      <th>max</th>\n",
       "      <td>2.000500e+09</td>\n",
       "      <td>2020.000000</td>\n",
       "      <td>1.149242e+08</td>\n",
       "      <td>5.000000e+09</td>\n",
       "    </tr>\n",
       "  </tbody>\n",
       "</table>\n",
       "</div>"
      ],
      "text/plain": [
       "       Serial Number      List Year  Assessed Value   Sale Amount\n",
       "count   2.000130e+05  200013.000000    2.000130e+05  2.000130e+05\n",
       "mean    1.091814e+06    2007.822467    2.207392e+05  3.918124e+05\n",
       "std     1.273133e+07       8.656000    1.167684e+06  1.129669e+07\n",
       "min     0.000000e+00    2001.000000    0.000000e+00  0.000000e+00\n",
       "25%     2.000500e+04    2001.000000    6.916100e+04  1.300000e+05\n",
       "50%     2.929000e+04    2002.000000    1.099000e+05  2.150000e+05\n",
       "75%     4.095900e+04    2020.000000    1.874300e+05  3.550000e+05\n",
       "max     2.000500e+09    2020.000000    1.149242e+08  5.000000e+09"
      ]
     },
     "execution_count": 6,
     "metadata": {},
     "output_type": "execute_result"
    }
   ],
   "source": [
    "df_ventas_br.describe()"
   ]
  },
  {
   "cell_type": "code",
   "execution_count": 7,
   "id": "07244e5a",
   "metadata": {},
   "outputs": [
    {
     "name": "stdout",
     "output_type": "stream",
     "text": [
      "<class 'pandas.core.frame.DataFrame'>\n",
      "RangeIndex: 200015 entries, 0 to 200014\n",
      "Data columns (total 14 columns):\n",
      " #   Column            Non-Null Count   Dtype  \n",
      "---  ------            --------------   -----  \n",
      " 0   Serial Number     200013 non-null  float64\n",
      " 1   List Year         200013 non-null  float64\n",
      " 2   Date Recorded     200011 non-null  object \n",
      " 3   Town              200013 non-null  object \n",
      " 4   Address           200009 non-null  object \n",
      " 5   Assessed Value    200013 non-null  float64\n",
      " 6   Sale Amount       200013 non-null  float64\n",
      " 7   Sales Ratio       200013 non-null  object \n",
      " 8   Property Type     66803 non-null   object \n",
      " 9   Residential Type  60953 non-null   object \n",
      " 10  Non Use Code      45751 non-null   object \n",
      " 11  Assessor Remarks  14338 non-null   object \n",
      " 12  OPM remarks       2848 non-null    object \n",
      " 13  Location          57043 non-null   object \n",
      "dtypes: float64(4), object(10)\n",
      "memory usage: 21.4+ MB\n"
     ]
    }
   ],
   "source": [
    "df_ventas_br.info()"
   ]
  },
  {
   "cell_type": "code",
   "execution_count": 8,
   "id": "7a05617b",
   "metadata": {},
   "outputs": [
    {
     "data": {
      "text/plain": [
       "Index(['Serial Number', 'List Year', 'Date Recorded', 'Town', 'Address',\n",
       "       'Assessed Value', 'Sale Amount', 'Sales Ratio', 'Property Type',\n",
       "       'Residential Type', 'Non Use Code', 'Assessor Remarks', 'OPM remarks',\n",
       "       'Location'],\n",
       "      dtype='object')"
      ]
     },
     "execution_count": 8,
     "metadata": {},
     "output_type": "execute_result"
    }
   ],
   "source": [
    "df_ventas_br.columns"
   ]
  },
  {
   "cell_type": "code",
   "execution_count": 9,
   "id": "0c770657",
   "metadata": {},
   "outputs": [
    {
     "data": {
      "text/plain": [
       "Index(['serialNumber', 'listYear', 'dateRecorded', 'town', 'address',\n",
       "       'assessedValue', 'saleAmount', 'salesRatio', 'propertyType',\n",
       "       'residentialType', 'nonUseCode', 'assessorRemarks', 'opmRemarks',\n",
       "       'location'],\n",
       "      dtype='object')"
      ]
     },
     "execution_count": 9,
     "metadata": {},
     "output_type": "execute_result"
    }
   ],
   "source": [
    "df_ventas_br.rename({'Serial Number':'serialNumber'}, axis=1,inplace=True)\n",
    "df_ventas_br.rename({'List Year':'listYear'}, axis=1,inplace=True)\n",
    "df_ventas_br.rename({'Date Recorded':'dateRecorded'}, axis=1,inplace=True)\n",
    "df_ventas_br.rename({'Town':'town'}, axis=1,inplace=True)\n",
    "df_ventas_br.rename({'Address':'address'}, axis=1,inplace=True)\n",
    "df_ventas_br.rename({'Assessed Value':'assessedValue'}, axis=1,inplace=True)\n",
    "df_ventas_br.rename({'Sale Amount':'saleAmount'}, axis=1,inplace=True)\n",
    "df_ventas_br.rename({'Sales Ratio':'salesRatio'}, axis=1,inplace=True)\n",
    "df_ventas_br.rename({'Property Type':'propertyType'}, axis=1,inplace=True)\n",
    "df_ventas_br.rename({'Residential Type':'residentialType'}, axis=1,inplace=True)\n",
    "df_ventas_br.rename({'Non Use Code':'nonUseCode'}, axis=1,inplace=True)\n",
    "df_ventas_br.rename({'Assessor Remarks':'assessorRemarks'}, axis=1,inplace=True)\n",
    "df_ventas_br.rename({'OPM remarks':'opmRemarks'}, axis=1,inplace=True)\n",
    "df_ventas_br.rename({'Location':'location'}, axis=1,inplace=True)\n",
    "df_ventas_br.columns"
   ]
  },
  {
   "cell_type": "code",
   "execution_count": 10,
   "id": "4e18f044",
   "metadata": {},
   "outputs": [],
   "source": [
    "df_ventas_br.replace('NaN', np.nan, inplace = True)"
   ]
  },
  {
   "cell_type": "code",
   "execution_count": 11,
   "id": "6f457beb",
   "metadata": {},
   "outputs": [
    {
     "data": {
      "text/html": [
       "<div>\n",
       "<style scoped>\n",
       "    .dataframe tbody tr th:only-of-type {\n",
       "        vertical-align: middle;\n",
       "    }\n",
       "\n",
       "    .dataframe tbody tr th {\n",
       "        vertical-align: top;\n",
       "    }\n",
       "\n",
       "    .dataframe thead th {\n",
       "        text-align: right;\n",
       "    }\n",
       "</style>\n",
       "<table border=\"1\" class=\"dataframe\">\n",
       "  <thead>\n",
       "    <tr style=\"text-align: right;\">\n",
       "      <th></th>\n",
       "      <th>serialNumber</th>\n",
       "      <th>listYear</th>\n",
       "      <th>dateRecorded</th>\n",
       "      <th>town</th>\n",
       "      <th>address</th>\n",
       "      <th>assessedValue</th>\n",
       "      <th>saleAmount</th>\n",
       "      <th>salesRatio</th>\n",
       "      <th>propertyType</th>\n",
       "      <th>residentialType</th>\n",
       "      <th>nonUseCode</th>\n",
       "      <th>assessorRemarks</th>\n",
       "      <th>opmRemarks</th>\n",
       "      <th>location</th>\n",
       "    </tr>\n",
       "  </thead>\n",
       "  <tbody>\n",
       "    <tr>\n",
       "      <th>0</th>\n",
       "      <td>False</td>\n",
       "      <td>False</td>\n",
       "      <td>False</td>\n",
       "      <td>False</td>\n",
       "      <td>False</td>\n",
       "      <td>False</td>\n",
       "      <td>False</td>\n",
       "      <td>False</td>\n",
       "      <td>False</td>\n",
       "      <td>True</td>\n",
       "      <td>False</td>\n",
       "      <td>False</td>\n",
       "      <td>True</td>\n",
       "      <td>True</td>\n",
       "    </tr>\n",
       "    <tr>\n",
       "      <th>1</th>\n",
       "      <td>False</td>\n",
       "      <td>False</td>\n",
       "      <td>False</td>\n",
       "      <td>False</td>\n",
       "      <td>False</td>\n",
       "      <td>False</td>\n",
       "      <td>False</td>\n",
       "      <td>False</td>\n",
       "      <td>False</td>\n",
       "      <td>True</td>\n",
       "      <td>False</td>\n",
       "      <td>True</td>\n",
       "      <td>True</td>\n",
       "      <td>True</td>\n",
       "    </tr>\n",
       "    <tr>\n",
       "      <th>2</th>\n",
       "      <td>False</td>\n",
       "      <td>False</td>\n",
       "      <td>False</td>\n",
       "      <td>False</td>\n",
       "      <td>False</td>\n",
       "      <td>False</td>\n",
       "      <td>False</td>\n",
       "      <td>False</td>\n",
       "      <td>True</td>\n",
       "      <td>True</td>\n",
       "      <td>False</td>\n",
       "      <td>True</td>\n",
       "      <td>True</td>\n",
       "      <td>True</td>\n",
       "    </tr>\n",
       "    <tr>\n",
       "      <th>3</th>\n",
       "      <td>False</td>\n",
       "      <td>False</td>\n",
       "      <td>False</td>\n",
       "      <td>False</td>\n",
       "      <td>False</td>\n",
       "      <td>False</td>\n",
       "      <td>False</td>\n",
       "      <td>False</td>\n",
       "      <td>True</td>\n",
       "      <td>True</td>\n",
       "      <td>False</td>\n",
       "      <td>True</td>\n",
       "      <td>True</td>\n",
       "      <td>True</td>\n",
       "    </tr>\n",
       "    <tr>\n",
       "      <th>4</th>\n",
       "      <td>False</td>\n",
       "      <td>False</td>\n",
       "      <td>False</td>\n",
       "      <td>False</td>\n",
       "      <td>False</td>\n",
       "      <td>False</td>\n",
       "      <td>False</td>\n",
       "      <td>False</td>\n",
       "      <td>True</td>\n",
       "      <td>True</td>\n",
       "      <td>False</td>\n",
       "      <td>True</td>\n",
       "      <td>True</td>\n",
       "      <td>True</td>\n",
       "    </tr>\n",
       "  </tbody>\n",
       "</table>\n",
       "</div>"
      ],
      "text/plain": [
       "   serialNumber  listYear  dateRecorded   town  address  assessedValue  \\\n",
       "0         False     False         False  False    False          False   \n",
       "1         False     False         False  False    False          False   \n",
       "2         False     False         False  False    False          False   \n",
       "3         False     False         False  False    False          False   \n",
       "4         False     False         False  False    False          False   \n",
       "\n",
       "   saleAmount  salesRatio  propertyType  residentialType  nonUseCode  \\\n",
       "0       False       False         False             True       False   \n",
       "1       False       False         False             True       False   \n",
       "2       False       False          True             True       False   \n",
       "3       False       False          True             True       False   \n",
       "4       False       False          True             True       False   \n",
       "\n",
       "   assessorRemarks  opmRemarks  location  \n",
       "0            False        True      True  \n",
       "1             True        True      True  \n",
       "2             True        True      True  \n",
       "3             True        True      True  \n",
       "4             True        True      True  "
      ]
     },
     "execution_count": 11,
     "metadata": {},
     "output_type": "execute_result"
    }
   ],
   "source": [
    "dfTemp = df_ventas_br.isnull()\n",
    "dfTemp.head(5)"
   ]
  },
  {
   "cell_type": "code",
   "execution_count": 12,
   "id": "8947bcb6",
   "metadata": {},
   "outputs": [
    {
     "name": "stdout",
     "output_type": "stream",
     "text": [
      "serialNumber\n",
      "False    200013\n",
      "True          2\n",
      "Name: serialNumber, dtype: int64\n",
      "\n",
      "listYear\n",
      "False    200013\n",
      "True          2\n",
      "Name: listYear, dtype: int64\n",
      "\n",
      "dateRecorded\n",
      "False    200011\n",
      "True          4\n",
      "Name: dateRecorded, dtype: int64\n",
      "\n",
      "town\n",
      "False    200013\n",
      "True          2\n",
      "Name: town, dtype: int64\n",
      "\n",
      "address\n",
      "False    200009\n",
      "True          6\n",
      "Name: address, dtype: int64\n",
      "\n",
      "assessedValue\n",
      "False    200013\n",
      "True          2\n",
      "Name: assessedValue, dtype: int64\n",
      "\n",
      "saleAmount\n",
      "False    200013\n",
      "True          2\n",
      "Name: saleAmount, dtype: int64\n",
      "\n",
      "salesRatio\n",
      "False    200013\n",
      "True          2\n",
      "Name: salesRatio, dtype: int64\n",
      "\n",
      "propertyType\n",
      "True     133212\n",
      "False     66803\n",
      "Name: propertyType, dtype: int64\n",
      "\n",
      "residentialType\n",
      "True     139062\n",
      "False     60953\n",
      "Name: residentialType, dtype: int64\n",
      "\n",
      "nonUseCode\n",
      "True     154264\n",
      "False     45751\n",
      "Name: nonUseCode, dtype: int64\n",
      "\n",
      "assessorRemarks\n",
      "True     185677\n",
      "False     14338\n",
      "Name: assessorRemarks, dtype: int64\n",
      "\n",
      "opmRemarks\n",
      "True     197167\n",
      "False      2848\n",
      "Name: opmRemarks, dtype: int64\n",
      "\n",
      "location\n",
      "True     142972\n",
      "False     57043\n",
      "Name: location, dtype: int64\n",
      "\n"
     ]
    }
   ],
   "source": [
    "for column in dfTemp.columns.values.tolist():\n",
    "    print(column)\n",
    "    print(dfTemp[column].value_counts())\n",
    "    print(\"\")"
   ]
  },
  {
   "cell_type": "code",
   "execution_count": 13,
   "id": "8255dc7b",
   "metadata": {},
   "outputs": [
    {
     "data": {
      "text/plain": [
       "serialNumber       float64\n",
       "listYear           float64\n",
       "dateRecorded        object\n",
       "town                object\n",
       "address             object\n",
       "assessedValue      float64\n",
       "saleAmount         float64\n",
       "salesRatio          object\n",
       "propertyType        object\n",
       "residentialType     object\n",
       "nonUseCode          object\n",
       "assessorRemarks     object\n",
       "opmRemarks          object\n",
       "location            object\n",
       "dtype: object"
      ]
     },
     "execution_count": 13,
     "metadata": {},
     "output_type": "execute_result"
    }
   ],
   "source": [
    "df_ventas_br.dtypes"
   ]
  },
  {
   "cell_type": "code",
   "execution_count": 14,
   "id": "e9b2020d",
   "metadata": {},
   "outputs": [],
   "source": [
    "# Lidiar con valores no numéricos (por ejemplo, reemplazar con NaN)\n",
    "df_ventas_br[\"assessedValue\"].replace([np.inf, -np.inf], np.nan, inplace=True)"
   ]
  },
  {
   "cell_type": "code",
   "execution_count": 15,
   "id": "88a85f60",
   "metadata": {},
   "outputs": [],
   "source": [
    "df_ventas_br.dropna(subset=['serialNumber'],axis=0,inplace=True)\n",
    "df_ventas_br.reset_index(drop=True, inplace=True)"
   ]
  },
  {
   "cell_type": "code",
   "execution_count": 16,
   "id": "768061d4",
   "metadata": {},
   "outputs": [
    {
     "name": "stderr",
     "output_type": "stream",
     "text": [
      "C:\\Users\\winte\\AppData\\Local\\Temp\\ipykernel_23652\\2232216685.py:1: FutureWarning: The default value of regex will change from True to False in a future version. In addition, single character regular expressions will *not* be treated as literal strings when regex=True.\n",
      "  df_ventas_br['salesRatio'] = df_ventas_br['salesRatio'].str.replace('.','').astype(float)\n"
     ]
    }
   ],
   "source": [
    "df_ventas_br['salesRatio'] = df_ventas_br['salesRatio'].str.replace('.','').astype(float)"
   ]
  },
  {
   "cell_type": "code",
   "execution_count": 19,
   "id": "6f5ad64e",
   "metadata": {},
   "outputs": [
    {
     "name": "stdout",
     "output_type": "stream",
     "text": [
      "Promedio de salesRatio: 335565644.5761985\n"
     ]
    }
   ],
   "source": [
    "avg_sales_ratio = df_ventas_br['salesRatio'].mean()\n",
    "print(\"Promedio de salesRatio:\", avg_sales_ratio)"
   ]
  },
  {
   "cell_type": "code",
   "execution_count": 20,
   "id": "2bae8e50",
   "metadata": {},
   "outputs": [
    {
     "data": {
      "text/html": [
       "<div>\n",
       "<style scoped>\n",
       "    .dataframe tbody tr th:only-of-type {\n",
       "        vertical-align: middle;\n",
       "    }\n",
       "\n",
       "    .dataframe tbody tr th {\n",
       "        vertical-align: top;\n",
       "    }\n",
       "\n",
       "    .dataframe thead th {\n",
       "        text-align: right;\n",
       "    }\n",
       "</style>\n",
       "<table border=\"1\" class=\"dataframe\">\n",
       "  <thead>\n",
       "    <tr style=\"text-align: right;\">\n",
       "      <th></th>\n",
       "      <th>serialNumber</th>\n",
       "      <th>listYear</th>\n",
       "      <th>dateRecorded</th>\n",
       "      <th>town</th>\n",
       "      <th>address</th>\n",
       "      <th>assessedValue</th>\n",
       "      <th>saleAmount</th>\n",
       "      <th>salesRatio</th>\n",
       "      <th>propertyType</th>\n",
       "      <th>residentialType</th>\n",
       "      <th>nonUseCode</th>\n",
       "      <th>assessorRemarks</th>\n",
       "      <th>opmRemarks</th>\n",
       "      <th>location</th>\n",
       "    </tr>\n",
       "  </thead>\n",
       "  <tbody>\n",
       "    <tr>\n",
       "      <th>0</th>\n",
       "      <td>20201210.0</td>\n",
       "      <td>2020.0</td>\n",
       "      <td>08/17/2021</td>\n",
       "      <td>Stratford</td>\n",
       "      <td>117 CANAAN CT</td>\n",
       "      <td>0.0</td>\n",
       "      <td>29900.0</td>\n",
       "      <td>3.355656e+08</td>\n",
       "      <td>Apartments</td>\n",
       "      <td>NaN</td>\n",
       "      <td>25 - Other</td>\n",
       "      <td>APARTMENT UNIT NOT INDIVIDUALLY ASSESSED</td>\n",
       "      <td>NaN</td>\n",
       "      <td>NaN</td>\n",
       "    </tr>\n",
       "    <tr>\n",
       "      <th>1</th>\n",
       "      <td>27839.0</td>\n",
       "      <td>2020.0</td>\n",
       "      <td>2021-12-03 00:00:00</td>\n",
       "      <td>Newtown</td>\n",
       "      <td>ROUTE 25</td>\n",
       "      <td>0.0</td>\n",
       "      <td>5000.0</td>\n",
       "      <td>3.355656e+08</td>\n",
       "      <td>Vacant Land</td>\n",
       "      <td>NaN</td>\n",
       "      <td>15 - Government Agency</td>\n",
       "      <td>NaN</td>\n",
       "      <td>NaN</td>\n",
       "      <td>NaN</td>\n",
       "    </tr>\n",
       "    <tr>\n",
       "      <th>2</th>\n",
       "      <td>44995.0</td>\n",
       "      <td>2001.0</td>\n",
       "      <td>09/23/2002</td>\n",
       "      <td>Coventry</td>\n",
       "      <td>400 EASTVIEW DR</td>\n",
       "      <td>0.0</td>\n",
       "      <td>325400.0</td>\n",
       "      <td>3.355656e+08</td>\n",
       "      <td>NaN</td>\n",
       "      <td>NaN</td>\n",
       "      <td>7</td>\n",
       "      <td>NaN</td>\n",
       "      <td>NaN</td>\n",
       "      <td>NaN</td>\n",
       "    </tr>\n",
       "    <tr>\n",
       "      <th>3</th>\n",
       "      <td>11821.0</td>\n",
       "      <td>2001.0</td>\n",
       "      <td>08/13/2002</td>\n",
       "      <td>Bolton</td>\n",
       "      <td>45 BEACON CT</td>\n",
       "      <td>0.0</td>\n",
       "      <td>12350.0</td>\n",
       "      <td>3.355656e+08</td>\n",
       "      <td>NaN</td>\n",
       "      <td>NaN</td>\n",
       "      <td>8</td>\n",
       "      <td>NaN</td>\n",
       "      <td>NaN</td>\n",
       "      <td>NaN</td>\n",
       "    </tr>\n",
       "    <tr>\n",
       "      <th>4</th>\n",
       "      <td>10055.0</td>\n",
       "      <td>2001.0</td>\n",
       "      <td>2001-04-12 00:00:00</td>\n",
       "      <td>Stafford</td>\n",
       "      <td>15 JENNIFER LN</td>\n",
       "      <td>0.0</td>\n",
       "      <td>165155.0</td>\n",
       "      <td>3.355656e+08</td>\n",
       "      <td>NaN</td>\n",
       "      <td>NaN</td>\n",
       "      <td>7</td>\n",
       "      <td>NaN</td>\n",
       "      <td>NaN</td>\n",
       "      <td>NaN</td>\n",
       "    </tr>\n",
       "  </tbody>\n",
       "</table>\n",
       "</div>"
      ],
      "text/plain": [
       "   serialNumber  listYear         dateRecorded       town          address  \\\n",
       "0    20201210.0    2020.0           08/17/2021  Stratford    117 CANAAN CT   \n",
       "1       27839.0    2020.0  2021-12-03 00:00:00    Newtown         ROUTE 25   \n",
       "2       44995.0    2001.0           09/23/2002   Coventry  400 EASTVIEW DR   \n",
       "3       11821.0    2001.0           08/13/2002     Bolton     45 BEACON CT   \n",
       "4       10055.0    2001.0  2001-04-12 00:00:00   Stafford   15 JENNIFER LN   \n",
       "\n",
       "   assessedValue  saleAmount    salesRatio propertyType residentialType  \\\n",
       "0            0.0     29900.0  3.355656e+08   Apartments             NaN   \n",
       "1            0.0      5000.0  3.355656e+08  Vacant Land             NaN   \n",
       "2            0.0    325400.0  3.355656e+08          NaN             NaN   \n",
       "3            0.0     12350.0  3.355656e+08          NaN             NaN   \n",
       "4            0.0    165155.0  3.355656e+08          NaN             NaN   \n",
       "\n",
       "               nonUseCode                           assessorRemarks  \\\n",
       "0              25 - Other  APARTMENT UNIT NOT INDIVIDUALLY ASSESSED   \n",
       "1  15 - Government Agency                                       NaN   \n",
       "2                       7                                       NaN   \n",
       "3                       8                                       NaN   \n",
       "4                       7                                       NaN   \n",
       "\n",
       "  opmRemarks location  \n",
       "0        NaN      NaN  \n",
       "1        NaN      NaN  \n",
       "2        NaN      NaN  \n",
       "3        NaN      NaN  \n",
       "4        NaN      NaN  "
      ]
     },
     "execution_count": 20,
     "metadata": {},
     "output_type": "execute_result"
    }
   ],
   "source": [
    "df_ventas_br[\"salesRatio\"].replace(np.nan,335565644.5761985,inplace=True)\n",
    "df_ventas_br.head(5)"
   ]
  },
  {
   "cell_type": "code",
   "execution_count": 21,
   "id": "43903c26",
   "metadata": {},
   "outputs": [
    {
     "data": {
      "text/plain": [
       "serialNumber       float64\n",
       "listYear             int32\n",
       "dateRecorded        object\n",
       "town                object\n",
       "address             object\n",
       "assessedValue      float64\n",
       "saleAmount         float64\n",
       "salesRatio         float64\n",
       "propertyType        object\n",
       "residentialType     object\n",
       "nonUseCode          object\n",
       "assessorRemarks     object\n",
       "opmRemarks          object\n",
       "location            object\n",
       "dtype: object"
      ]
     },
     "execution_count": 21,
     "metadata": {},
     "output_type": "execute_result"
    }
   ],
   "source": [
    "df_ventas_br[[\"listYear\"]]= df_ventas_br[[\"listYear\"]].astype(\"int\")\n",
    "df_ventas_br.dtypes"
   ]
  },
  {
   "cell_type": "code",
   "execution_count": 22,
   "id": "60a755d9",
   "metadata": {},
   "outputs": [
    {
     "data": {
      "text/plain": [
       "datetime.datetime(2002, 1, 7, 0, 0)"
      ]
     },
     "execution_count": 22,
     "metadata": {},
     "output_type": "execute_result"
    }
   ],
   "source": [
    "df_ventas_br['dateRecorded'].value_counts().idxmax()"
   ]
  },
  {
   "cell_type": "code",
   "execution_count": 23,
   "id": "debc5a61",
   "metadata": {},
   "outputs": [
    {
     "data": {
      "text/plain": [
       "335565644.5761985"
      ]
     },
     "execution_count": 23,
     "metadata": {},
     "output_type": "execute_result"
    }
   ],
   "source": [
    "df_ventas_br['salesRatio'].value_counts().idxmax()"
   ]
  },
  {
   "cell_type": "code",
   "execution_count": 24,
   "id": "bb8616e8",
   "metadata": {},
   "outputs": [
    {
     "data": {
      "text/plain": [
       "'Stamford'"
      ]
     },
     "execution_count": 24,
     "metadata": {},
     "output_type": "execute_result"
    }
   ],
   "source": [
    "df_ventas_br['town'].value_counts().idxmax()"
   ]
  },
  {
   "cell_type": "code",
   "execution_count": 25,
   "id": "ecd1ca20",
   "metadata": {},
   "outputs": [
    {
     "data": {
      "text/plain": [
       "'MULTI ADDRESSES'"
      ]
     },
     "execution_count": 25,
     "metadata": {},
     "output_type": "execute_result"
    }
   ],
   "source": [
    "df_ventas_br['address'].value_counts().idxmax()"
   ]
  },
  {
   "cell_type": "code",
   "execution_count": 26,
   "id": "e370d933",
   "metadata": {},
   "outputs": [
    {
     "data": {
      "text/plain": [
       "'Residential'"
      ]
     },
     "execution_count": 26,
     "metadata": {},
     "output_type": "execute_result"
    }
   ],
   "source": [
    "df_ventas_br['propertyType'].value_counts().idxmax()"
   ]
  },
  {
   "cell_type": "code",
   "execution_count": 27,
   "id": "ee716b92",
   "metadata": {},
   "outputs": [
    {
     "data": {
      "text/plain": [
       "'Single Family'"
      ]
     },
     "execution_count": 27,
     "metadata": {},
     "output_type": "execute_result"
    }
   ],
   "source": [
    "df_ventas_br['residentialType'].value_counts().idxmax()"
   ]
  },
  {
   "cell_type": "code",
   "execution_count": 28,
   "id": "a8c857fa",
   "metadata": {},
   "outputs": [
    {
     "data": {
      "text/plain": [
       "7"
      ]
     },
     "execution_count": 28,
     "metadata": {},
     "output_type": "execute_result"
    }
   ],
   "source": [
    "df_ventas_br['nonUseCode'].value_counts().idxmax()"
   ]
  },
  {
   "cell_type": "code",
   "execution_count": 29,
   "id": "245671b0",
   "metadata": {},
   "outputs": [
    {
     "data": {
      "text/plain": [
       "'ESTATE SALE'"
      ]
     },
     "execution_count": 29,
     "metadata": {},
     "output_type": "execute_result"
    }
   ],
   "source": [
    "df_ventas_br['assessorRemarks'].value_counts().idxmax()"
   ]
  },
  {
   "cell_type": "code",
   "execution_count": 30,
   "id": "17be6ac5",
   "metadata": {},
   "outputs": [
    {
     "data": {
      "text/plain": [
       "'GOOD SALE PER MLS'"
      ]
     },
     "execution_count": 30,
     "metadata": {},
     "output_type": "execute_result"
    }
   ],
   "source": [
    "df_ventas_br['opmRemarks'].value_counts().idxmax()"
   ]
  },
  {
   "cell_type": "code",
   "execution_count": 31,
   "id": "df90f351",
   "metadata": {},
   "outputs": [
    {
     "data": {
      "text/plain": [
       "0"
      ]
     },
     "execution_count": 31,
     "metadata": {},
     "output_type": "execute_result"
    }
   ],
   "source": [
    "df_ventas_br['location'].value_counts().idxmax()"
   ]
  },
  {
   "cell_type": "code",
   "execution_count": 32,
   "id": "377ced41",
   "metadata": {},
   "outputs": [],
   "source": [
    "df_ventas_br[\"dateRecorded\"].replace(np.nan,'datetime.datetime(2002, 1, 7, 0, 0)', inplace= True)\n",
    "df_ventas_br[\"salesRatio\"].replace(np.nan,'0', inplace= True)\n",
    "df_ventas_br[\"town\"].replace(np.nan,'Stamford', inplace= True)\n",
    "df_ventas_br[\"address\"].replace(np.nan,'MULTI ADDRESSES', inplace= True)\n",
    "df_ventas_br[\"propertyType\"].replace(np.nan,'Residential', inplace= True)\n",
    "df_ventas_br[\"residentialType\"].replace(np.nan,'Single Family', inplace= True)\n",
    "df_ventas_br[\"nonUseCode\"].replace(np.nan,'7', inplace= True)\n",
    "df_ventas_br[\"assessorRemarks\"].replace(np.nan,'ESTATE SALE', inplace= True)\n",
    "df_ventas_br[\"opmRemarks\"].replace(np.nan,'GOOD SALE PER MLS', inplace= True)\n",
    "df_ventas_br[\"location\"].replace(np.nan,'0', inplace= True)"
   ]
  },
  {
   "cell_type": "code",
   "execution_count": 33,
   "id": "03692561",
   "metadata": {},
   "outputs": [
    {
     "data": {
      "text/html": [
       "<div>\n",
       "<style scoped>\n",
       "    .dataframe tbody tr th:only-of-type {\n",
       "        vertical-align: middle;\n",
       "    }\n",
       "\n",
       "    .dataframe tbody tr th {\n",
       "        vertical-align: top;\n",
       "    }\n",
       "\n",
       "    .dataframe thead th {\n",
       "        text-align: right;\n",
       "    }\n",
       "</style>\n",
       "<table border=\"1\" class=\"dataframe\">\n",
       "  <thead>\n",
       "    <tr style=\"text-align: right;\">\n",
       "      <th></th>\n",
       "      <th>serialNumber</th>\n",
       "      <th>listYear</th>\n",
       "      <th>dateRecorded</th>\n",
       "      <th>town</th>\n",
       "      <th>address</th>\n",
       "      <th>assessedValue</th>\n",
       "      <th>saleAmount</th>\n",
       "      <th>salesRatio</th>\n",
       "      <th>propertyType</th>\n",
       "      <th>residentialType</th>\n",
       "      <th>nonUseCode</th>\n",
       "      <th>assessorRemarks</th>\n",
       "      <th>opmRemarks</th>\n",
       "      <th>location</th>\n",
       "    </tr>\n",
       "  </thead>\n",
       "  <tbody>\n",
       "    <tr>\n",
       "      <th>0</th>\n",
       "      <td>20201210.0</td>\n",
       "      <td>2020</td>\n",
       "      <td>08/17/2021</td>\n",
       "      <td>Stratford</td>\n",
       "      <td>117 CANAAN CT</td>\n",
       "      <td>0.0</td>\n",
       "      <td>29900.0</td>\n",
       "      <td>3.355656e+08</td>\n",
       "      <td>Apartments</td>\n",
       "      <td>Single Family</td>\n",
       "      <td>25 - Other</td>\n",
       "      <td>APARTMENT UNIT NOT INDIVIDUALLY ASSESSED</td>\n",
       "      <td>GOOD SALE PER MLS</td>\n",
       "      <td>0</td>\n",
       "    </tr>\n",
       "    <tr>\n",
       "      <th>1</th>\n",
       "      <td>27839.0</td>\n",
       "      <td>2020</td>\n",
       "      <td>2021-12-03 00:00:00</td>\n",
       "      <td>Newtown</td>\n",
       "      <td>ROUTE 25</td>\n",
       "      <td>0.0</td>\n",
       "      <td>5000.0</td>\n",
       "      <td>3.355656e+08</td>\n",
       "      <td>Vacant Land</td>\n",
       "      <td>Single Family</td>\n",
       "      <td>15 - Government Agency</td>\n",
       "      <td>ESTATE SALE</td>\n",
       "      <td>GOOD SALE PER MLS</td>\n",
       "      <td>0</td>\n",
       "    </tr>\n",
       "    <tr>\n",
       "      <th>2</th>\n",
       "      <td>44995.0</td>\n",
       "      <td>2001</td>\n",
       "      <td>09/23/2002</td>\n",
       "      <td>Coventry</td>\n",
       "      <td>400 EASTVIEW DR</td>\n",
       "      <td>0.0</td>\n",
       "      <td>325400.0</td>\n",
       "      <td>3.355656e+08</td>\n",
       "      <td>Residential</td>\n",
       "      <td>Single Family</td>\n",
       "      <td>7</td>\n",
       "      <td>ESTATE SALE</td>\n",
       "      <td>GOOD SALE PER MLS</td>\n",
       "      <td>0</td>\n",
       "    </tr>\n",
       "    <tr>\n",
       "      <th>3</th>\n",
       "      <td>11821.0</td>\n",
       "      <td>2001</td>\n",
       "      <td>08/13/2002</td>\n",
       "      <td>Bolton</td>\n",
       "      <td>45 BEACON CT</td>\n",
       "      <td>0.0</td>\n",
       "      <td>12350.0</td>\n",
       "      <td>3.355656e+08</td>\n",
       "      <td>Residential</td>\n",
       "      <td>Single Family</td>\n",
       "      <td>8</td>\n",
       "      <td>ESTATE SALE</td>\n",
       "      <td>GOOD SALE PER MLS</td>\n",
       "      <td>0</td>\n",
       "    </tr>\n",
       "    <tr>\n",
       "      <th>4</th>\n",
       "      <td>10055.0</td>\n",
       "      <td>2001</td>\n",
       "      <td>2001-04-12 00:00:00</td>\n",
       "      <td>Stafford</td>\n",
       "      <td>15 JENNIFER LN</td>\n",
       "      <td>0.0</td>\n",
       "      <td>165155.0</td>\n",
       "      <td>3.355656e+08</td>\n",
       "      <td>Residential</td>\n",
       "      <td>Single Family</td>\n",
       "      <td>7</td>\n",
       "      <td>ESTATE SALE</td>\n",
       "      <td>GOOD SALE PER MLS</td>\n",
       "      <td>0</td>\n",
       "    </tr>\n",
       "    <tr>\n",
       "      <th>5</th>\n",
       "      <td>37386.0</td>\n",
       "      <td>2001</td>\n",
       "      <td>01/15/2002</td>\n",
       "      <td>Stratford</td>\n",
       "      <td>1101 SUCCESS AVE</td>\n",
       "      <td>0.0</td>\n",
       "      <td>50000.0</td>\n",
       "      <td>3.355656e+08</td>\n",
       "      <td>Residential</td>\n",
       "      <td>Single Family</td>\n",
       "      <td>25</td>\n",
       "      <td>ESTATE SALE</td>\n",
       "      <td>GOOD SALE PER MLS</td>\n",
       "      <td>0</td>\n",
       "    </tr>\n",
       "    <tr>\n",
       "      <th>6</th>\n",
       "      <td>38737.0</td>\n",
       "      <td>2002</td>\n",
       "      <td>2002-11-12 00:00:00</td>\n",
       "      <td>Harwinton</td>\n",
       "      <td>BREEZY HL RD LT 1</td>\n",
       "      <td>0.0</td>\n",
       "      <td>20000.0</td>\n",
       "      <td>3.355656e+08</td>\n",
       "      <td>Residential</td>\n",
       "      <td>Single Family</td>\n",
       "      <td>1</td>\n",
       "      <td>ESTATE SALE</td>\n",
       "      <td>GOOD SALE PER MLS</td>\n",
       "      <td>0</td>\n",
       "    </tr>\n",
       "    <tr>\n",
       "      <th>7</th>\n",
       "      <td>37276.0</td>\n",
       "      <td>2002</td>\n",
       "      <td>2003-07-02 00:00:00</td>\n",
       "      <td>Coventry</td>\n",
       "      <td>24 STONECROFT LN</td>\n",
       "      <td>0.0</td>\n",
       "      <td>68000.0</td>\n",
       "      <td>3.355656e+08</td>\n",
       "      <td>Residential</td>\n",
       "      <td>Single Family</td>\n",
       "      <td>7</td>\n",
       "      <td>ESTATE SALE</td>\n",
       "      <td>GOOD SALE PER MLS</td>\n",
       "      <td>0</td>\n",
       "    </tr>\n",
       "    <tr>\n",
       "      <th>8</th>\n",
       "      <td>39468.0</td>\n",
       "      <td>2002</td>\n",
       "      <td>08/27/2003</td>\n",
       "      <td>Hamden</td>\n",
       "      <td>42 GILBERT AVE</td>\n",
       "      <td>0.0</td>\n",
       "      <td>179900.0</td>\n",
       "      <td>3.355656e+08</td>\n",
       "      <td>Residential</td>\n",
       "      <td>Single Family</td>\n",
       "      <td>7</td>\n",
       "      <td>ESTATE SALE</td>\n",
       "      <td>GOOD SALE PER MLS</td>\n",
       "      <td>0</td>\n",
       "    </tr>\n",
       "    <tr>\n",
       "      <th>9</th>\n",
       "      <td>20006.0</td>\n",
       "      <td>2002</td>\n",
       "      <td>11/19/2002</td>\n",
       "      <td>Chaplin</td>\n",
       "      <td>CROSS RD</td>\n",
       "      <td>0.0</td>\n",
       "      <td>27000.0</td>\n",
       "      <td>3.355656e+08</td>\n",
       "      <td>Residential</td>\n",
       "      <td>Single Family</td>\n",
       "      <td>28</td>\n",
       "      <td>ESTATE SALE</td>\n",
       "      <td>GOOD SALE PER MLS</td>\n",
       "      <td>0</td>\n",
       "    </tr>\n",
       "  </tbody>\n",
       "</table>\n",
       "</div>"
      ],
      "text/plain": [
       "   serialNumber  listYear         dateRecorded       town            address  \\\n",
       "0    20201210.0      2020           08/17/2021  Stratford      117 CANAAN CT   \n",
       "1       27839.0      2020  2021-12-03 00:00:00    Newtown           ROUTE 25   \n",
       "2       44995.0      2001           09/23/2002   Coventry    400 EASTVIEW DR   \n",
       "3       11821.0      2001           08/13/2002     Bolton       45 BEACON CT   \n",
       "4       10055.0      2001  2001-04-12 00:00:00   Stafford     15 JENNIFER LN   \n",
       "5       37386.0      2001           01/15/2002  Stratford   1101 SUCCESS AVE   \n",
       "6       38737.0      2002  2002-11-12 00:00:00  Harwinton  BREEZY HL RD LT 1   \n",
       "7       37276.0      2002  2003-07-02 00:00:00   Coventry   24 STONECROFT LN   \n",
       "8       39468.0      2002           08/27/2003     Hamden     42 GILBERT AVE   \n",
       "9       20006.0      2002           11/19/2002    Chaplin           CROSS RD   \n",
       "\n",
       "   assessedValue  saleAmount    salesRatio propertyType residentialType  \\\n",
       "0            0.0     29900.0  3.355656e+08   Apartments   Single Family   \n",
       "1            0.0      5000.0  3.355656e+08  Vacant Land   Single Family   \n",
       "2            0.0    325400.0  3.355656e+08  Residential   Single Family   \n",
       "3            0.0     12350.0  3.355656e+08  Residential   Single Family   \n",
       "4            0.0    165155.0  3.355656e+08  Residential   Single Family   \n",
       "5            0.0     50000.0  3.355656e+08  Residential   Single Family   \n",
       "6            0.0     20000.0  3.355656e+08  Residential   Single Family   \n",
       "7            0.0     68000.0  3.355656e+08  Residential   Single Family   \n",
       "8            0.0    179900.0  3.355656e+08  Residential   Single Family   \n",
       "9            0.0     27000.0  3.355656e+08  Residential   Single Family   \n",
       "\n",
       "               nonUseCode                           assessorRemarks  \\\n",
       "0              25 - Other  APARTMENT UNIT NOT INDIVIDUALLY ASSESSED   \n",
       "1  15 - Government Agency                               ESTATE SALE   \n",
       "2                       7                               ESTATE SALE   \n",
       "3                       8                               ESTATE SALE   \n",
       "4                       7                               ESTATE SALE   \n",
       "5                      25                               ESTATE SALE   \n",
       "6                       1                               ESTATE SALE   \n",
       "7                       7                               ESTATE SALE   \n",
       "8                       7                               ESTATE SALE   \n",
       "9                      28                               ESTATE SALE   \n",
       "\n",
       "          opmRemarks location  \n",
       "0  GOOD SALE PER MLS        0  \n",
       "1  GOOD SALE PER MLS        0  \n",
       "2  GOOD SALE PER MLS        0  \n",
       "3  GOOD SALE PER MLS        0  \n",
       "4  GOOD SALE PER MLS        0  \n",
       "5  GOOD SALE PER MLS        0  \n",
       "6  GOOD SALE PER MLS        0  \n",
       "7  GOOD SALE PER MLS        0  \n",
       "8  GOOD SALE PER MLS        0  \n",
       "9  GOOD SALE PER MLS        0  "
      ]
     },
     "execution_count": 33,
     "metadata": {},
     "output_type": "execute_result"
    }
   ],
   "source": [
    "df_ventas_br.head(10)"
   ]
  },
  {
   "cell_type": "code",
   "execution_count": 34,
   "id": "1e1f110c",
   "metadata": {},
   "outputs": [
    {
     "data": {
      "text/html": [
       "<div>\n",
       "<style scoped>\n",
       "    .dataframe tbody tr th:only-of-type {\n",
       "        vertical-align: middle;\n",
       "    }\n",
       "\n",
       "    .dataframe tbody tr th {\n",
       "        vertical-align: top;\n",
       "    }\n",
       "\n",
       "    .dataframe thead th {\n",
       "        text-align: right;\n",
       "    }\n",
       "</style>\n",
       "<table border=\"1\" class=\"dataframe\">\n",
       "  <thead>\n",
       "    <tr style=\"text-align: right;\">\n",
       "      <th></th>\n",
       "      <th>serialNumber</th>\n",
       "      <th>listYear</th>\n",
       "      <th>dateRecorded</th>\n",
       "      <th>town</th>\n",
       "      <th>address</th>\n",
       "      <th>assessedValue</th>\n",
       "      <th>saleAmount</th>\n",
       "      <th>salesRatio</th>\n",
       "      <th>propertyType</th>\n",
       "      <th>residentialType</th>\n",
       "      <th>nonUseCode</th>\n",
       "      <th>assessorRemarks</th>\n",
       "      <th>opmRemarks</th>\n",
       "      <th>location</th>\n",
       "    </tr>\n",
       "  </thead>\n",
       "  <tbody>\n",
       "    <tr>\n",
       "      <th>0</th>\n",
       "      <td>20201210.0</td>\n",
       "      <td>2020</td>\n",
       "      <td>2021-08-17</td>\n",
       "      <td>Stratford</td>\n",
       "      <td>117 CANAAN CT</td>\n",
       "      <td>0.0</td>\n",
       "      <td>29900.0</td>\n",
       "      <td>3.355656e+08</td>\n",
       "      <td>Apartments</td>\n",
       "      <td>Single Family</td>\n",
       "      <td>25 - Other</td>\n",
       "      <td>APARTMENT UNIT NOT INDIVIDUALLY ASSESSED</td>\n",
       "      <td>GOOD SALE PER MLS</td>\n",
       "      <td>0</td>\n",
       "    </tr>\n",
       "    <tr>\n",
       "      <th>1</th>\n",
       "      <td>27839.0</td>\n",
       "      <td>2020</td>\n",
       "      <td>2021-12-03</td>\n",
       "      <td>Newtown</td>\n",
       "      <td>ROUTE 25</td>\n",
       "      <td>0.0</td>\n",
       "      <td>5000.0</td>\n",
       "      <td>3.355656e+08</td>\n",
       "      <td>Vacant Land</td>\n",
       "      <td>Single Family</td>\n",
       "      <td>15 - Government Agency</td>\n",
       "      <td>ESTATE SALE</td>\n",
       "      <td>GOOD SALE PER MLS</td>\n",
       "      <td>0</td>\n",
       "    </tr>\n",
       "    <tr>\n",
       "      <th>2</th>\n",
       "      <td>44995.0</td>\n",
       "      <td>2001</td>\n",
       "      <td>2002-09-23</td>\n",
       "      <td>Coventry</td>\n",
       "      <td>400 EASTVIEW DR</td>\n",
       "      <td>0.0</td>\n",
       "      <td>325400.0</td>\n",
       "      <td>3.355656e+08</td>\n",
       "      <td>Residential</td>\n",
       "      <td>Single Family</td>\n",
       "      <td>7</td>\n",
       "      <td>ESTATE SALE</td>\n",
       "      <td>GOOD SALE PER MLS</td>\n",
       "      <td>0</td>\n",
       "    </tr>\n",
       "    <tr>\n",
       "      <th>3</th>\n",
       "      <td>11821.0</td>\n",
       "      <td>2001</td>\n",
       "      <td>2002-08-13</td>\n",
       "      <td>Bolton</td>\n",
       "      <td>45 BEACON CT</td>\n",
       "      <td>0.0</td>\n",
       "      <td>12350.0</td>\n",
       "      <td>3.355656e+08</td>\n",
       "      <td>Residential</td>\n",
       "      <td>Single Family</td>\n",
       "      <td>8</td>\n",
       "      <td>ESTATE SALE</td>\n",
       "      <td>GOOD SALE PER MLS</td>\n",
       "      <td>0</td>\n",
       "    </tr>\n",
       "    <tr>\n",
       "      <th>4</th>\n",
       "      <td>10055.0</td>\n",
       "      <td>2001</td>\n",
       "      <td>2001-04-12</td>\n",
       "      <td>Stafford</td>\n",
       "      <td>15 JENNIFER LN</td>\n",
       "      <td>0.0</td>\n",
       "      <td>165155.0</td>\n",
       "      <td>3.355656e+08</td>\n",
       "      <td>Residential</td>\n",
       "      <td>Single Family</td>\n",
       "      <td>7</td>\n",
       "      <td>ESTATE SALE</td>\n",
       "      <td>GOOD SALE PER MLS</td>\n",
       "      <td>0</td>\n",
       "    </tr>\n",
       "  </tbody>\n",
       "</table>\n",
       "</div>"
      ],
      "text/plain": [
       "   serialNumber  listYear dateRecorded       town          address  \\\n",
       "0    20201210.0      2020   2021-08-17  Stratford    117 CANAAN CT   \n",
       "1       27839.0      2020   2021-12-03    Newtown         ROUTE 25   \n",
       "2       44995.0      2001   2002-09-23   Coventry  400 EASTVIEW DR   \n",
       "3       11821.0      2001   2002-08-13     Bolton     45 BEACON CT   \n",
       "4       10055.0      2001   2001-04-12   Stafford   15 JENNIFER LN   \n",
       "\n",
       "   assessedValue  saleAmount    salesRatio propertyType residentialType  \\\n",
       "0            0.0     29900.0  3.355656e+08   Apartments   Single Family   \n",
       "1            0.0      5000.0  3.355656e+08  Vacant Land   Single Family   \n",
       "2            0.0    325400.0  3.355656e+08  Residential   Single Family   \n",
       "3            0.0     12350.0  3.355656e+08  Residential   Single Family   \n",
       "4            0.0    165155.0  3.355656e+08  Residential   Single Family   \n",
       "\n",
       "               nonUseCode                           assessorRemarks  \\\n",
       "0              25 - Other  APARTMENT UNIT NOT INDIVIDUALLY ASSESSED   \n",
       "1  15 - Government Agency                               ESTATE SALE   \n",
       "2                       7                               ESTATE SALE   \n",
       "3                       8                               ESTATE SALE   \n",
       "4                       7                               ESTATE SALE   \n",
       "\n",
       "          opmRemarks location  \n",
       "0  GOOD SALE PER MLS        0  \n",
       "1  GOOD SALE PER MLS        0  \n",
       "2  GOOD SALE PER MLS        0  \n",
       "3  GOOD SALE PER MLS        0  \n",
       "4  GOOD SALE PER MLS        0  "
      ]
     },
     "execution_count": 34,
     "metadata": {},
     "output_type": "execute_result"
    }
   ],
   "source": [
    "df_ventas_br['dateRecorded'] = pd.to_datetime(df_ventas_br['dateRecorded'], errors='coerce')\n",
    "df_ventas_br.head(5)"
   ]
  },
  {
   "cell_type": "code",
   "execution_count": 35,
   "id": "64a5f27d",
   "metadata": {},
   "outputs": [
    {
     "name": "stdout",
     "output_type": "stream",
     "text": [
      "<class 'pandas.core.frame.DataFrame'>\n",
      "RangeIndex: 200013 entries, 0 to 200012\n",
      "Data columns (total 14 columns):\n",
      " #   Column           Non-Null Count   Dtype         \n",
      "---  ------           --------------   -----         \n",
      " 0   serialNumber     200013 non-null  float64       \n",
      " 1   listYear         200013 non-null  int32         \n",
      " 2   dateRecorded     200011 non-null  datetime64[ns]\n",
      " 3   town             200013 non-null  object        \n",
      " 4   address          200013 non-null  object        \n",
      " 5   assessedValue    200013 non-null  float64       \n",
      " 6   saleAmount       200013 non-null  float64       \n",
      " 7   salesRatio       200013 non-null  float64       \n",
      " 8   propertyType     200013 non-null  object        \n",
      " 9   residentialType  200013 non-null  object        \n",
      " 10  nonUseCode       200013 non-null  object        \n",
      " 11  assessorRemarks  200013 non-null  object        \n",
      " 12  opmRemarks       200013 non-null  object        \n",
      " 13  location         200013 non-null  object        \n",
      "dtypes: datetime64[ns](1), float64(4), int32(1), object(8)\n",
      "memory usage: 20.6+ MB\n"
     ]
    }
   ],
   "source": [
    "df_ventas_br.info()"
   ]
  },
  {
   "cell_type": "code",
   "execution_count": 36,
   "id": "56d0dfc4",
   "metadata": {},
   "outputs": [
    {
     "data": {
      "text/plain": [
       "count    2.000130e+05\n",
       "mean     3.918124e+05\n",
       "std      1.129669e+07\n",
       "min      0.000000e+00\n",
       "25%      1.300000e+05\n",
       "50%      2.150000e+05\n",
       "75%      3.550000e+05\n",
       "max      5.000000e+09\n",
       "Name: saleAmount, dtype: float64"
      ]
     },
     "execution_count": 36,
     "metadata": {},
     "output_type": "execute_result"
    }
   ],
   "source": [
    "dfTemp=df_ventas_br[\"saleAmount\"]\n",
    "dfTemp.describe()"
   ]
  },
  {
   "cell_type": "code",
   "execution_count": 37,
   "id": "cb9fd431",
   "metadata": {},
   "outputs": [
    {
     "name": "stdout",
     "output_type": "stream",
     "text": [
      "Residential\n"
     ]
    }
   ],
   "source": [
    "propiedad_facil_venta = df_ventas_br['propertyType'].value_counts().idxmax()\n",
    "print(propiedad_facil_venta)"
   ]
  },
  {
   "cell_type": "code",
   "execution_count": 38,
   "id": "8714b6cc",
   "metadata": {},
   "outputs": [
    {
     "name": "stdout",
     "output_type": "stream",
     "text": [
      "Stamford\n"
     ]
    }
   ],
   "source": [
    "ciudad_mas_ventas = df_ventas_br['town'].value_counts().idxmax()\n",
    "print(ciudad_mas_ventas)"
   ]
  },
  {
   "cell_type": "code",
   "execution_count": 39,
   "id": "55822bc4",
   "metadata": {},
   "outputs": [
    {
     "name": "stdout",
     "output_type": "stream",
     "text": [
      "listYear\n",
      "2001    1.467167e+10\n",
      "2002    1.710040e+10\n",
      "2003    5.583694e+09\n",
      "2004    3.810000e+05\n",
      "2005    2.268956e+07\n",
      "2006    6.370518e+07\n",
      "2007    3.307944e+07\n",
      "2008    2.310264e+07\n",
      "2009    2.959803e+07\n",
      "2010    4.502262e+07\n",
      "2011    3.063695e+07\n",
      "2012    3.962037e+07\n",
      "2013    6.825809e+07\n",
      "2014    7.573932e+07\n",
      "2015    3.907227e+07\n",
      "2016    3.096610e+07\n",
      "2017    6.759359e+07\n",
      "2018    1.001896e+08\n",
      "2019    1.229586e+08\n",
      "2020    4.021921e+10\n",
      "Name: saleAmount, dtype: float64\n"
     ]
    }
   ],
   "source": [
    "df_ventas_br['saleAmount'] = pd.to_numeric(df_ventas_br['saleAmount'], errors='coerce')\n",
    "ingreso_anual = df_ventas_br.groupby('listYear')['saleAmount'].sum()\n",
    "\n",
    "print(ingreso_anual)"
   ]
  },
  {
   "cell_type": "code",
   "execution_count": 69,
   "id": "40006d13",
   "metadata": {},
   "outputs": [
    {
     "data": {
      "image/png": "[encoded data removed]",
      "text/plain": [
       "<Figure size 800x600 with 1 Axes>"
      ]
     },
     "metadata": {},
     "output_type": "display_data"
    }
   ],
   "source": [
    "import matplotlib as mpl\n",
    "import seaborn as sns\n",
    "mpl.rcParams[\"axes.spines.bottom\"] = True\n",
    "mpl.rcParams[\"axes.spines.left\"] = False\n",
    "mpl.rcParams[\"axes.spines.right\"] = False\n",
    "mpl.rcParams[\"axes.spines.top\"] = False\n",
    "\n",
    "plt.figure(figsize=(8, 6)) \n",
    "sns.barplot(x=ingreso_anual.index, y=ingreso_anual.values, color='palegoldenrod')\n",
    "plt.xlabel('Año')\n",
    "plt.ylabel('Ingreso Anual')\n",
    "plt.title('Ingreso Anual de Propiedades Vendidas')\n",
    "plt.xticks(rotation=45) \n",
    "plt.tight_layout() \n",
    "plt.show()"
   ]
  },
  {
   "cell_type": "code",
   "execution_count": 70,
   "id": "d1a9a01b",
   "metadata": {},
   "outputs": [
    {
     "data": {
      "image/png": "[encoded data removed]",
      "text/plain": [
       "<Figure size 800x600 with 1 Axes>"
      ]
     },
     "metadata": {},
     "output_type": "display_data"
    }
   ],
   "source": [
    "propiedad_facil_venta = df_ventas_br['propertyType'].value_counts()\n",
    "\n",
    "plt.figure(figsize=(8, 6))\n",
    "propiedad_facil_venta.plot(kind='bar', color='mediumseagreen')\n",
    "plt.xlabel('Tipo de Propiedad')\n",
    "plt.ylabel('Cantidad de Ventas')\n",
    "plt.title('Propiedad con Facilidad de Venta')\n",
    "plt.xticks(rotation=45)\n",
    "plt.show()"
   ]
  },
  {
   "cell_type": "code",
   "execution_count": 66,
   "id": "09c5bf47",
   "metadata": {},
   "outputs": [
    {
     "data": {
      "image/png": "[encoded data removed]",
      "text/plain": [
       "<Figure size 600x600 with 1 Axes>"
      ]
     },
     "metadata": {},
     "output_type": "display_data"
    }
   ],
   "source": [
    "ciudad_con_mas_ventas = df_ventas_br['town'].value_counts().idxmax()\n",
    "cantidad_ventas_ciudad = df_ventas_br['town'].value_counts().max()\n",
    "\n",
    "total_ventas = len(df_ventas_br)\n",
    "\n",
    "etiquetas = [ciudad_con_mas_ventas, 'Other']\n",
    "valores = [cantidad_ventas_ciudad, total_ventas - cantidad_ventas_ciudad]\n",
    "plt.figure(figsize=(6, 6))\n",
    "plt.pie(valores, labels=etiquetas, colors=['lightblue', 'lightseagreen'], autopct='%1.1f%%', startangle=140)\n",
    "plt.title(f'Proporción de Ventas por ciudad')\n",
    "plt.axis('equal') \n",
    "plt.show()"
   ]
  },
  {
   "cell_type": "code",
   "execution_count": 50,
   "id": "f23803d5",
   "metadata": {},
   "outputs": [
    {
     "data": {
      "image/png": "[encoded data removed]",
      "text/plain": [
       "<Figure size 600x600 with 1 Axes>"
      ]
     },
     "metadata": {},
     "output_type": "display_data"
    }
   ],
   "source": [
    "costo_promedio_residencial = df_ventas_br[df_ventas_br['propertyType'] == 'Residential']['saleAmount'].mean()\n",
    "costo_promedio_comercial = df_ventas_br[df_ventas_br['propertyType'] == 'Commercial']['saleAmount'].mean()\n",
    "\n",
    "plt.figure(figsize=(6, 6))\n",
    "plt.bar(['Residencial', 'Comercial'], [costo_promedio_residencial, costo_promedio_comercial], color=['lightseagreen', 'palegoldenrod'])\n",
    "plt.xlabel('Tipo de Propiedad')\n",
    "plt.ylabel('Costo Promedio')\n",
    "plt.title('Costo Promedio de Propiedades Residenciales y Comerciales')\n",
    "plt.show()"
   ]
  },
  {
   "cell_type": "code",
   "execution_count": 71,
   "id": "153046c1",
   "metadata": {},
   "outputs": [
    {
     "data": {
      "image/png": "[encoded data removed]",
      "text/plain": [
       "<Figure size 800x600 with 1 Axes>"
      ]
     },
     "metadata": {},
     "output_type": "display_data"
    }
   ],
   "source": [
    "tipo_residencial_mas_vendida = df_ventas_br[df_ventas_br['propertyType'] == 'Residential']['residentialType'].value_counts().idxmax()\n",
    "\n",
    "plt.figure(figsize=(8, 6))\n",
    "sns.countplot(data=df_ventas_br[df_ventas_br['propertyType'] == 'Residential'], x='residentialType', order=df_ventas_br['residentialType'].value_counts().index)\n",
    "plt.xlabel('Tipo de Propiedad Residencial')\n",
    "plt.ylabel('Cantidad de Ventas')\n",
    "plt.title(f'Ventas por tipo de Propiedad Residencial')\n",
    "plt.xticks(rotation=20)\n",
    "plt.show()"
   ]
  },
  {
   "cell_type": "code",
   "execution_count": 83,
   "id": "c6346f1c",
   "metadata": {},
   "outputs": [
    {
     "data": {
      "image/png": "[encoded data removed]",
      "text/plain": [
       "<Figure size 700x400 with 1 Axes>"
      ]
     },
     "metadata": {},
     "output_type": "display_data"
    }
   ],
   "source": [
    "df_ventas_br['margen_ganancia'] = df_ventas_br['saleAmount'] - df_ventas_br['assessedValue']\n",
    "margen_promedio = df_ventas_br['margen_ganancia'].mean()\n",
    "\n",
    "plt.figure(figsize=(7, 4))\n",
    "sns.histplot(data=df_ventas_br, x='margen_ganancia', bins=10, color='mediumseagreen')\n",
    "plt.xlabel('Margen de Ganancia')\n",
    "plt.ylabel('Cantidad de Propiedades')\n",
    "plt.title(f'Margen Promedio de Ganancia por Propiedad: {margen_promedio:.0f} USD')\n",
    "plt.show()"
   ]
  },
  {
   "cell_type": "code",
   "execution_count": null,
   "id": "98665bc8",
   "metadata": {},
   "outputs": [],
   "source": []
  }
 ],
 "metadata": {
  "kernelspec": {
   "display_name": "Python 3 (ipykernel)",
   "language": "python",
   "name": "python3"
  },
  "language_info": {
   "codemirror_mode": {
    "name": "ipython",
    "version": 3
   },
   "file_extension": ".py",
   "mimetype": "text/x-python",
   "name": "python",
   "nbconvert_exporter": "python",
   "pygments_lexer": "ipython3",
   "version": "3.10.9"
  }
 },
 "nbformat": 4,
 "nbformat_minor": 5
}
